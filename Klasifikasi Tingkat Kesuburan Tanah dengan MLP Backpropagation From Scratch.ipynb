{
 "cells": [
  {
   "cell_type": "markdown",
   "id": "37d7de2e",
   "metadata": {},
   "source": [
    "Membaca data"
   ]
  },
  {
   "cell_type": "code",
   "execution_count": 78,
   "id": "7c4fb7e6",
   "metadata": {},
   "outputs": [
    {
     "data": {
      "application/vnd.microsoft.datawrangler.viewer.v0+json": {
       "columns": [
        {
         "name": "index",
         "rawType": "int64",
         "type": "integer"
        },
        {
         "name": "N",
         "rawType": "int64",
         "type": "integer"
        },
        {
         "name": "P",
         "rawType": "float64",
         "type": "float"
        },
        {
         "name": "K",
         "rawType": "int64",
         "type": "integer"
        },
        {
         "name": "pH",
         "rawType": "float64",
         "type": "float"
        },
        {
         "name": "EC",
         "rawType": "float64",
         "type": "float"
        },
        {
         "name": "OC",
         "rawType": "float64",
         "type": "float"
        },
        {
         "name": "S",
         "rawType": "float64",
         "type": "float"
        },
        {
         "name": "Zn",
         "rawType": "float64",
         "type": "float"
        },
        {
         "name": "Fe",
         "rawType": "float64",
         "type": "float"
        },
        {
         "name": "Cu",
         "rawType": "float64",
         "type": "float"
        },
        {
         "name": "Mn",
         "rawType": "float64",
         "type": "float"
        },
        {
         "name": "B",
         "rawType": "float64",
         "type": "float"
        },
        {
         "name": "Output",
         "rawType": "int64",
         "type": "integer"
        }
       ],
       "ref": "7f5bc761-8b46-4f37-a1b9-136a1a31da3f",
       "rows": [
        [
         "0",
         "138",
         "8.6",
         "560",
         "7.46",
         "0.62",
         "0.7",
         "5.9",
         "0.24",
         "0.31",
         "0.77",
         "8.71",
         "0.11",
         "0"
        ],
        [
         "1",
         "213",
         "7.5",
         "338",
         "7.62",
         "0.75",
         "1.06",
         "25.4",
         "0.3",
         "0.86",
         "1.54",
         "2.89",
         "2.29",
         "0"
        ],
        [
         "2",
         "163",
         "9.6",
         "718",
         "7.59",
         "0.51",
         "1.11",
         "14.3",
         "0.3",
         "0.86",
         "1.57",
         "2.7",
         "2.03",
         "0"
        ],
        [
         "3",
         "157",
         "6.8",
         "475",
         "7.64",
         "0.58",
         "0.94",
         "26.0",
         "0.34",
         "0.54",
         "1.53",
         "2.65",
         "1.82",
         "0"
        ],
        [
         "4",
         "270",
         "9.9",
         "444",
         "7.63",
         "0.4",
         "0.86",
         "11.8",
         "0.25",
         "0.76",
         "1.69",
         "2.43",
         "2.26",
         "1"
        ]
       ],
       "shape": {
        "columns": 13,
        "rows": 5
       }
      },
      "text/html": [
       "<div>\n",
       "<style scoped>\n",
       "    .dataframe tbody tr th:only-of-type {\n",
       "        vertical-align: middle;\n",
       "    }\n",
       "\n",
       "    .dataframe tbody tr th {\n",
       "        vertical-align: top;\n",
       "    }\n",
       "\n",
       "    .dataframe thead th {\n",
       "        text-align: right;\n",
       "    }\n",
       "</style>\n",
       "<table border=\"1\" class=\"dataframe\">\n",
       "  <thead>\n",
       "    <tr style=\"text-align: right;\">\n",
       "      <th></th>\n",
       "      <th>N</th>\n",
       "      <th>P</th>\n",
       "      <th>K</th>\n",
       "      <th>pH</th>\n",
       "      <th>EC</th>\n",
       "      <th>OC</th>\n",
       "      <th>S</th>\n",
       "      <th>Zn</th>\n",
       "      <th>Fe</th>\n",
       "      <th>Cu</th>\n",
       "      <th>Mn</th>\n",
       "      <th>B</th>\n",
       "      <th>Output</th>\n",
       "    </tr>\n",
       "  </thead>\n",
       "  <tbody>\n",
       "    <tr>\n",
       "      <th>0</th>\n",
       "      <td>138</td>\n",
       "      <td>8.6</td>\n",
       "      <td>560</td>\n",
       "      <td>7.46</td>\n",
       "      <td>0.62</td>\n",
       "      <td>0.70</td>\n",
       "      <td>5.9</td>\n",
       "      <td>0.24</td>\n",
       "      <td>0.31</td>\n",
       "      <td>0.77</td>\n",
       "      <td>8.71</td>\n",
       "      <td>0.11</td>\n",
       "      <td>0</td>\n",
       "    </tr>\n",
       "    <tr>\n",
       "      <th>1</th>\n",
       "      <td>213</td>\n",
       "      <td>7.5</td>\n",
       "      <td>338</td>\n",
       "      <td>7.62</td>\n",
       "      <td>0.75</td>\n",
       "      <td>1.06</td>\n",
       "      <td>25.4</td>\n",
       "      <td>0.30</td>\n",
       "      <td>0.86</td>\n",
       "      <td>1.54</td>\n",
       "      <td>2.89</td>\n",
       "      <td>2.29</td>\n",
       "      <td>0</td>\n",
       "    </tr>\n",
       "    <tr>\n",
       "      <th>2</th>\n",
       "      <td>163</td>\n",
       "      <td>9.6</td>\n",
       "      <td>718</td>\n",
       "      <td>7.59</td>\n",
       "      <td>0.51</td>\n",
       "      <td>1.11</td>\n",
       "      <td>14.3</td>\n",
       "      <td>0.30</td>\n",
       "      <td>0.86</td>\n",
       "      <td>1.57</td>\n",
       "      <td>2.70</td>\n",
       "      <td>2.03</td>\n",
       "      <td>0</td>\n",
       "    </tr>\n",
       "    <tr>\n",
       "      <th>3</th>\n",
       "      <td>157</td>\n",
       "      <td>6.8</td>\n",
       "      <td>475</td>\n",
       "      <td>7.64</td>\n",
       "      <td>0.58</td>\n",
       "      <td>0.94</td>\n",
       "      <td>26.0</td>\n",
       "      <td>0.34</td>\n",
       "      <td>0.54</td>\n",
       "      <td>1.53</td>\n",
       "      <td>2.65</td>\n",
       "      <td>1.82</td>\n",
       "      <td>0</td>\n",
       "    </tr>\n",
       "    <tr>\n",
       "      <th>4</th>\n",
       "      <td>270</td>\n",
       "      <td>9.9</td>\n",
       "      <td>444</td>\n",
       "      <td>7.63</td>\n",
       "      <td>0.40</td>\n",
       "      <td>0.86</td>\n",
       "      <td>11.8</td>\n",
       "      <td>0.25</td>\n",
       "      <td>0.76</td>\n",
       "      <td>1.69</td>\n",
       "      <td>2.43</td>\n",
       "      <td>2.26</td>\n",
       "      <td>1</td>\n",
       "    </tr>\n",
       "  </tbody>\n",
       "</table>\n",
       "</div>"
      ],
      "text/plain": [
       "     N    P    K    pH    EC    OC     S    Zn    Fe    Cu    Mn     B  Output\n",
       "0  138  8.6  560  7.46  0.62  0.70   5.9  0.24  0.31  0.77  8.71  0.11       0\n",
       "1  213  7.5  338  7.62  0.75  1.06  25.4  0.30  0.86  1.54  2.89  2.29       0\n",
       "2  163  9.6  718  7.59  0.51  1.11  14.3  0.30  0.86  1.57  2.70  2.03       0\n",
       "3  157  6.8  475  7.64  0.58  0.94  26.0  0.34  0.54  1.53  2.65  1.82       0\n",
       "4  270  9.9  444  7.63  0.40  0.86  11.8  0.25  0.76  1.69  2.43  2.26       1"
      ]
     },
     "execution_count": 78,
     "metadata": {},
     "output_type": "execute_result"
    }
   ],
   "source": [
    "import pandas as pd\n",
    "\n",
    "df = pd.read_csv('dataset1.csv')\n",
    "df.head()"
   ]
  },
  {
   "cell_type": "markdown",
   "id": "94cad496",
   "metadata": {},
   "source": [
    "Mengecek Informasi data"
   ]
  },
  {
   "cell_type": "code",
   "execution_count": 79,
   "id": "c25f9b40",
   "metadata": {},
   "outputs": [
    {
     "name": "stdout",
     "output_type": "stream",
     "text": [
      "<class 'pandas.core.frame.DataFrame'>\n",
      "RangeIndex: 880 entries, 0 to 879\n",
      "Data columns (total 13 columns):\n",
      " #   Column  Non-Null Count  Dtype  \n",
      "---  ------  --------------  -----  \n",
      " 0   N       880 non-null    int64  \n",
      " 1   P       880 non-null    float64\n",
      " 2   K       880 non-null    int64  \n",
      " 3   pH      880 non-null    float64\n",
      " 4   EC      880 non-null    float64\n",
      " 5   OC      880 non-null    float64\n",
      " 6   S       880 non-null    float64\n",
      " 7   Zn      880 non-null    float64\n",
      " 8   Fe      880 non-null    float64\n",
      " 9   Cu      880 non-null    float64\n",
      " 10  Mn      880 non-null    float64\n",
      " 11  B       880 non-null    float64\n",
      " 12  Output  880 non-null    int64  \n",
      "dtypes: float64(10), int64(3)\n",
      "memory usage: 89.5 KB\n"
     ]
    }
   ],
   "source": [
    "df.info()"
   ]
  },
  {
   "cell_type": "code",
   "execution_count": 80,
   "id": "65fa0f7a",
   "metadata": {},
   "outputs": [
    {
     "data": {
      "application/vnd.microsoft.datawrangler.viewer.v0+json": {
       "columns": [
        {
         "name": "index",
         "rawType": "object",
         "type": "string"
        },
        {
         "name": "N",
         "rawType": "float64",
         "type": "float"
        },
        {
         "name": "P",
         "rawType": "float64",
         "type": "float"
        },
        {
         "name": "K",
         "rawType": "float64",
         "type": "float"
        },
        {
         "name": "pH",
         "rawType": "float64",
         "type": "float"
        },
        {
         "name": "EC",
         "rawType": "float64",
         "type": "float"
        },
        {
         "name": "OC",
         "rawType": "float64",
         "type": "float"
        },
        {
         "name": "S",
         "rawType": "float64",
         "type": "float"
        },
        {
         "name": "Zn",
         "rawType": "float64",
         "type": "float"
        },
        {
         "name": "Fe",
         "rawType": "float64",
         "type": "float"
        },
        {
         "name": "Cu",
         "rawType": "float64",
         "type": "float"
        },
        {
         "name": "Mn",
         "rawType": "float64",
         "type": "float"
        },
        {
         "name": "B",
         "rawType": "float64",
         "type": "float"
        },
        {
         "name": "Output",
         "rawType": "float64",
         "type": "float"
        }
       ],
       "ref": "d5e1ef94-5875-4070-b043-ca4d2eb5eeda",
       "rows": [
        [
         "count",
         "880.0",
         "880.0",
         "880.0",
         "880.0",
         "880.0",
         "880.0",
         "880.0",
         "880.0",
         "880.0",
         "880.0",
         "880.0",
         "880.0",
         "880.0"
        ],
        [
         "mean",
         "246.7375",
         "14.56215909090909",
         "499.9784090909091",
         "7.5104999999999995",
         "0.5436590909090908",
         "0.6179886363636365",
         "7.545079545454546",
         "0.46927272727272723",
         "4.140522727272727",
         "0.9524431818181819",
         "8.666500000000001",
         "0.5901590909090909",
         "0.5886363636363636"
        ],
        [
         "std",
         "77.38886017864402",
         "21.967755092861445",
         "124.22283818395218",
         "0.4649121658515391",
         "0.1415966877712754",
         "0.8429861461771495",
         "4.424183642638545",
         "1.894234091243586",
         "3.1100108753080073",
         "0.4658998011958898",
         "4.298827924499841",
         "0.5708004655532883",
         "0.5754617907592557"
        ],
        [
         "min",
         "6.0",
         "2.9",
         "11.0",
         "0.9",
         "0.1",
         "0.1",
         "0.64",
         "0.07",
         "0.21",
         "0.09",
         "0.11",
         "0.06",
         "0.0"
        ],
        [
         "25%",
         "201.0",
         "6.8",
         "412.0",
         "7.35",
         "0.43",
         "0.38",
         "4.7",
         "0.28",
         "2.05",
         "0.63",
         "6.2250000000000005",
         "0.27",
         "0.0"
        ],
        [
         "50%",
         "257.0",
         "8.1",
         "475.0",
         "7.5",
         "0.545",
         "0.59",
         "6.64",
         "0.36",
         "3.565",
         "0.93",
         "8.344999999999999",
         "0.405",
         "1.0"
        ],
        [
         "75%",
         "307.0",
         "10.55",
         "581.0",
         "7.63",
         "0.64",
         "0.78",
         "8.75",
         "0.47",
         "6.32",
         "1.25",
         "11.4725",
         "0.61",
         "1.0"
        ],
        [
         "max",
         "383.0",
         "125.0",
         "887.0",
         "11.15",
         "0.95",
         "24.0",
         "31.0",
         "42.0",
         "44.0",
         "3.02",
         "31.0",
         "2.82",
         "2.0"
        ]
       ],
       "shape": {
        "columns": 13,
        "rows": 8
       }
      },
      "text/html": [
       "<div>\n",
       "<style scoped>\n",
       "    .dataframe tbody tr th:only-of-type {\n",
       "        vertical-align: middle;\n",
       "    }\n",
       "\n",
       "    .dataframe tbody tr th {\n",
       "        vertical-align: top;\n",
       "    }\n",
       "\n",
       "    .dataframe thead th {\n",
       "        text-align: right;\n",
       "    }\n",
       "</style>\n",
       "<table border=\"1\" class=\"dataframe\">\n",
       "  <thead>\n",
       "    <tr style=\"text-align: right;\">\n",
       "      <th></th>\n",
       "      <th>N</th>\n",
       "      <th>P</th>\n",
       "      <th>K</th>\n",
       "      <th>pH</th>\n",
       "      <th>EC</th>\n",
       "      <th>OC</th>\n",
       "      <th>S</th>\n",
       "      <th>Zn</th>\n",
       "      <th>Fe</th>\n",
       "      <th>Cu</th>\n",
       "      <th>Mn</th>\n",
       "      <th>B</th>\n",
       "      <th>Output</th>\n",
       "    </tr>\n",
       "  </thead>\n",
       "  <tbody>\n",
       "    <tr>\n",
       "      <th>count</th>\n",
       "      <td>880.00000</td>\n",
       "      <td>880.000000</td>\n",
       "      <td>880.000000</td>\n",
       "      <td>880.000000</td>\n",
       "      <td>880.000000</td>\n",
       "      <td>880.000000</td>\n",
       "      <td>880.000000</td>\n",
       "      <td>880.000000</td>\n",
       "      <td>880.000000</td>\n",
       "      <td>880.000000</td>\n",
       "      <td>880.000000</td>\n",
       "      <td>880.000000</td>\n",
       "      <td>880.000000</td>\n",
       "    </tr>\n",
       "    <tr>\n",
       "      <th>mean</th>\n",
       "      <td>246.73750</td>\n",
       "      <td>14.562159</td>\n",
       "      <td>499.978409</td>\n",
       "      <td>7.510500</td>\n",
       "      <td>0.543659</td>\n",
       "      <td>0.617989</td>\n",
       "      <td>7.545080</td>\n",
       "      <td>0.469273</td>\n",
       "      <td>4.140523</td>\n",
       "      <td>0.952443</td>\n",
       "      <td>8.666500</td>\n",
       "      <td>0.590159</td>\n",
       "      <td>0.588636</td>\n",
       "    </tr>\n",
       "    <tr>\n",
       "      <th>std</th>\n",
       "      <td>77.38886</td>\n",
       "      <td>21.967755</td>\n",
       "      <td>124.222838</td>\n",
       "      <td>0.464912</td>\n",
       "      <td>0.141597</td>\n",
       "      <td>0.842986</td>\n",
       "      <td>4.424184</td>\n",
       "      <td>1.894234</td>\n",
       "      <td>3.110011</td>\n",
       "      <td>0.465900</td>\n",
       "      <td>4.298828</td>\n",
       "      <td>0.570800</td>\n",
       "      <td>0.575462</td>\n",
       "    </tr>\n",
       "    <tr>\n",
       "      <th>min</th>\n",
       "      <td>6.00000</td>\n",
       "      <td>2.900000</td>\n",
       "      <td>11.000000</td>\n",
       "      <td>0.900000</td>\n",
       "      <td>0.100000</td>\n",
       "      <td>0.100000</td>\n",
       "      <td>0.640000</td>\n",
       "      <td>0.070000</td>\n",
       "      <td>0.210000</td>\n",
       "      <td>0.090000</td>\n",
       "      <td>0.110000</td>\n",
       "      <td>0.060000</td>\n",
       "      <td>0.000000</td>\n",
       "    </tr>\n",
       "    <tr>\n",
       "      <th>25%</th>\n",
       "      <td>201.00000</td>\n",
       "      <td>6.800000</td>\n",
       "      <td>412.000000</td>\n",
       "      <td>7.350000</td>\n",
       "      <td>0.430000</td>\n",
       "      <td>0.380000</td>\n",
       "      <td>4.700000</td>\n",
       "      <td>0.280000</td>\n",
       "      <td>2.050000</td>\n",
       "      <td>0.630000</td>\n",
       "      <td>6.225000</td>\n",
       "      <td>0.270000</td>\n",
       "      <td>0.000000</td>\n",
       "    </tr>\n",
       "    <tr>\n",
       "      <th>50%</th>\n",
       "      <td>257.00000</td>\n",
       "      <td>8.100000</td>\n",
       "      <td>475.000000</td>\n",
       "      <td>7.500000</td>\n",
       "      <td>0.545000</td>\n",
       "      <td>0.590000</td>\n",
       "      <td>6.640000</td>\n",
       "      <td>0.360000</td>\n",
       "      <td>3.565000</td>\n",
       "      <td>0.930000</td>\n",
       "      <td>8.345000</td>\n",
       "      <td>0.405000</td>\n",
       "      <td>1.000000</td>\n",
       "    </tr>\n",
       "    <tr>\n",
       "      <th>75%</th>\n",
       "      <td>307.00000</td>\n",
       "      <td>10.550000</td>\n",
       "      <td>581.000000</td>\n",
       "      <td>7.630000</td>\n",
       "      <td>0.640000</td>\n",
       "      <td>0.780000</td>\n",
       "      <td>8.750000</td>\n",
       "      <td>0.470000</td>\n",
       "      <td>6.320000</td>\n",
       "      <td>1.250000</td>\n",
       "      <td>11.472500</td>\n",
       "      <td>0.610000</td>\n",
       "      <td>1.000000</td>\n",
       "    </tr>\n",
       "    <tr>\n",
       "      <th>max</th>\n",
       "      <td>383.00000</td>\n",
       "      <td>125.000000</td>\n",
       "      <td>887.000000</td>\n",
       "      <td>11.150000</td>\n",
       "      <td>0.950000</td>\n",
       "      <td>24.000000</td>\n",
       "      <td>31.000000</td>\n",
       "      <td>42.000000</td>\n",
       "      <td>44.000000</td>\n",
       "      <td>3.020000</td>\n",
       "      <td>31.000000</td>\n",
       "      <td>2.820000</td>\n",
       "      <td>2.000000</td>\n",
       "    </tr>\n",
       "  </tbody>\n",
       "</table>\n",
       "</div>"
      ],
      "text/plain": [
       "               N           P           K          pH          EC          OC  \\\n",
       "count  880.00000  880.000000  880.000000  880.000000  880.000000  880.000000   \n",
       "mean   246.73750   14.562159  499.978409    7.510500    0.543659    0.617989   \n",
       "std     77.38886   21.967755  124.222838    0.464912    0.141597    0.842986   \n",
       "min      6.00000    2.900000   11.000000    0.900000    0.100000    0.100000   \n",
       "25%    201.00000    6.800000  412.000000    7.350000    0.430000    0.380000   \n",
       "50%    257.00000    8.100000  475.000000    7.500000    0.545000    0.590000   \n",
       "75%    307.00000   10.550000  581.000000    7.630000    0.640000    0.780000   \n",
       "max    383.00000  125.000000  887.000000   11.150000    0.950000   24.000000   \n",
       "\n",
       "                S          Zn          Fe          Cu          Mn           B  \\\n",
       "count  880.000000  880.000000  880.000000  880.000000  880.000000  880.000000   \n",
       "mean     7.545080    0.469273    4.140523    0.952443    8.666500    0.590159   \n",
       "std      4.424184    1.894234    3.110011    0.465900    4.298828    0.570800   \n",
       "min      0.640000    0.070000    0.210000    0.090000    0.110000    0.060000   \n",
       "25%      4.700000    0.280000    2.050000    0.630000    6.225000    0.270000   \n",
       "50%      6.640000    0.360000    3.565000    0.930000    8.345000    0.405000   \n",
       "75%      8.750000    0.470000    6.320000    1.250000   11.472500    0.610000   \n",
       "max     31.000000   42.000000   44.000000    3.020000   31.000000    2.820000   \n",
       "\n",
       "           Output  \n",
       "count  880.000000  \n",
       "mean     0.588636  \n",
       "std      0.575462  \n",
       "min      0.000000  \n",
       "25%      0.000000  \n",
       "50%      1.000000  \n",
       "75%      1.000000  \n",
       "max      2.000000  "
      ]
     },
     "execution_count": 80,
     "metadata": {},
     "output_type": "execute_result"
    }
   ],
   "source": [
    "df.describe()"
   ]
  },
  {
   "cell_type": "markdown",
   "id": "467bf3eb",
   "metadata": {},
   "source": [
    "Melihat distribusi data Y (Target)"
   ]
  },
  {
   "cell_type": "code",
   "execution_count": 81,
   "id": "916b9c93",
   "metadata": {},
   "outputs": [
    {
     "data": {
      "image/png": "[encoded data removed]",
      "text/plain": [
       "<Figure size 640x480 with 1 Axes>"
      ]
     },
     "metadata": {},
     "output_type": "display_data"
    }
   ],
   "source": [
    "import matplotlib.pyplot as plt\n",
    "\n",
    "kelas_counts = df['Output'].value_counts().sort_index()\n",
    "\n",
    "plt.bar(kelas_counts.index, kelas_counts.values)\n",
    "plt.xlabel('Kelas Kualitas Tanah')\n",
    "plt.ylabel('Jumlah')\n",
    "plt.title('Distribusi Kelas Kualitas Tanah')\n",
    "plt.xticks([0, 1, 2])\n",
    "plt.show()\n",
    "\n",
    "\n"
   ]
  },
  {
   "cell_type": "markdown",
   "id": "01391390",
   "metadata": {},
   "source": [
    "Mengecek Missing Value"
   ]
  },
  {
   "cell_type": "code",
   "execution_count": 82,
   "id": "999a1da1",
   "metadata": {},
   "outputs": [
    {
     "data": {
      "application/vnd.microsoft.datawrangler.viewer.v0+json": {
       "columns": [
        {
         "name": "index",
         "rawType": "object",
         "type": "string"
        },
        {
         "name": "0",
         "rawType": "int64",
         "type": "integer"
        }
       ],
       "ref": "5b7a719e-95db-4979-a1f3-02abe69ac131",
       "rows": [
        [
         "N",
         "0"
        ],
        [
         "P",
         "0"
        ],
        [
         "K",
         "0"
        ],
        [
         "pH",
         "0"
        ],
        [
         "EC",
         "0"
        ],
        [
         "OC",
         "0"
        ],
        [
         "S",
         "0"
        ],
        [
         "Zn",
         "0"
        ],
        [
         "Fe",
         "0"
        ],
        [
         "Cu",
         "0"
        ],
        [
         "Mn",
         "0"
        ],
        [
         "B",
         "0"
        ],
        [
         "Output",
         "0"
        ]
       ],
       "shape": {
        "columns": 1,
        "rows": 13
       }
      },
      "text/plain": [
       "N         0\n",
       "P         0\n",
       "K         0\n",
       "pH        0\n",
       "EC        0\n",
       "OC        0\n",
       "S         0\n",
       "Zn        0\n",
       "Fe        0\n",
       "Cu        0\n",
       "Mn        0\n",
       "B         0\n",
       "Output    0\n",
       "dtype: int64"
      ]
     },
     "execution_count": 82,
     "metadata": {},
     "output_type": "execute_result"
    }
   ],
   "source": [
    "df.isnull().sum()"
   ]
  },
  {
   "cell_type": "markdown",
   "id": "01e1317c",
   "metadata": {},
   "source": [
    "Mengecek Outlier menggunakan IQR"
   ]
  },
  {
   "cell_type": "code",
   "execution_count": 83,
   "id": "eddaea7e",
   "metadata": {},
   "outputs": [
    {
     "name": "stdout",
     "output_type": "stream",
     "text": [
      "N : 13 outlier\n",
      "P : 77 outlier\n",
      "K : 8 outlier\n",
      "pH : 40 outlier\n",
      "EC : 1 outlier\n",
      "OC : 1 outlier\n",
      "S : 43 outlier\n",
      "Zn : 8 outlier\n",
      "Fe : 2 outlier\n",
      "Cu : 1 outlier\n",
      "Mn : 7 outlier\n",
      "B : 119 outlier\n",
      "Output : 0 outlier\n"
     ]
    }
   ],
   "source": [
    "simpan_outlier = []\n",
    "\n",
    "for kolom in df.columns:\n",
    "    Q1 = df[kolom].quantile(0.25)\n",
    "    Q3 = df[kolom].quantile(0.75)\n",
    "    IQR = Q3 - Q1\n",
    "\n",
    "    lower_bound = Q1 - 1.5 * IQR\n",
    "    upper_bound = Q3 + 1.5 * IQR\n",
    "\n",
    "    outliers = df[(df[kolom] < lower_bound) | (df[kolom] > upper_bound)]\n",
    "    print(f\"{kolom} : {outliers.shape[0]} outlier\")"
   ]
  },
  {
   "cell_type": "markdown",
   "id": "7736f609",
   "metadata": {},
   "source": [
    "Imputasi Outlier menggunakan Median"
   ]
  },
  {
   "cell_type": "code",
   "execution_count": 84,
   "id": "b697b198",
   "metadata": {},
   "outputs": [],
   "source": [
    "import numpy as np\n",
    "\n",
    "kolom_pilihan = [\"pH\", \"S\", \"B\"]\n",
    "\n",
    "for kolom in kolom_pilihan:\n",
    "    Q1 = df[kolom].quantile(0.25)\n",
    "    Q3 = df[kolom].quantile(0.75)\n",
    "    IQR = Q3 - Q1\n",
    "\n",
    "    lower_bound = Q1 - 1.5 * IQR\n",
    "    upper_bound = Q3 + 1.5 * IQR\n",
    "\n",
    "    median = df[kolom].median()\n",
    "    df[kolom] = np.where((df[kolom] < lower_bound) | (df[kolom] > upper_bound), median, df[kolom])"
   ]
  },
  {
   "cell_type": "markdown",
   "id": "aa7b2f0e",
   "metadata": {},
   "source": [
    "Imputasi Outlier menggunakan Mean"
   ]
  },
  {
   "cell_type": "code",
   "execution_count": 85,
   "id": "31dd131f",
   "metadata": {},
   "outputs": [],
   "source": [
    "kolom_pilihan = [\"P\"]\n",
    "\n",
    "for kolom in kolom_pilihan:\n",
    "    Q1 = df[kolom].quantile(0.25)\n",
    "    Q3 = df[kolom].quantile(0.75)\n",
    "    IQR = Q3 - Q1\n",
    "\n",
    "    lower_bound = Q1 - 1.5 * IQR\n",
    "    upper_bound = Q3 + 1.5 * IQR\n",
    "\n",
    "    mean = df[kolom].mean()\n",
    "    df[kolom] = np.where((df[kolom] < lower_bound) | (df[kolom] > upper_bound), mean, df[kolom])"
   ]
  },
  {
   "cell_type": "markdown",
   "id": "9fa795ae",
   "metadata": {},
   "source": [
    "Cek Outlier setelah imputasi"
   ]
  },
  {
   "cell_type": "code",
   "execution_count": 86,
   "id": "52ef91a8",
   "metadata": {},
   "outputs": [
    {
     "name": "stdout",
     "output_type": "stream",
     "text": [
      "\n",
      "Jumlah Outlier per Kolom (setelah imputasi):\n",
      "- N: 13 outlier\n",
      "- P: 0 outlier\n",
      "- K: 8 outlier\n",
      "- pH: 5 outlier\n",
      "- EC: 1 outlier\n",
      "- OC: 1 outlier\n",
      "- S: 8 outlier\n",
      "- Zn: 8 outlier\n",
      "- Fe: 2 outlier\n",
      "- Cu: 1 outlier\n",
      "- Mn: 7 outlier\n",
      "- B: 15 outlier\n",
      "- Output: 0 outlier\n"
     ]
    }
   ],
   "source": [
    "print(\"\\nJumlah Outlier per Kolom (setelah imputasi):\")\n",
    "for kolom in df.columns:\n",
    "    Q1 = df[kolom].quantile(0.25)\n",
    "    Q3 = df[kolom].quantile(0.75)\n",
    "    IQR = Q3 - Q1\n",
    "\n",
    "    lower_bound = Q1 - 1.5 * IQR\n",
    "    upper_bound = Q3 + 1.5 * IQR\n",
    "\n",
    "    outliers = df[(df[kolom] < lower_bound) | (df[kolom] > upper_bound)]\n",
    "    print(f\"- {kolom}: {outliers.shape[0]} outlier\")"
   ]
  },
  {
   "cell_type": "markdown",
   "id": "076f5b27",
   "metadata": {},
   "source": [
    "Pisahkan kolom antara X dan Y"
   ]
  },
  {
   "cell_type": "code",
   "execution_count": 21,
   "id": "dcbb7084",
   "metadata": {},
   "outputs": [],
   "source": [
    "features = ['N', 'P', 'K', 'pH', 'EC', 'OC', 'S', 'Zn', 'Fe', 'Cu', 'Mn', 'B']\n",
    "X = df[features]\n",
    "y = df['Output']"
   ]
  },
  {
   "cell_type": "markdown",
   "id": "a94bd762",
   "metadata": {},
   "source": [
    "SMOTE "
   ]
  },
  {
   "cell_type": "code",
   "execution_count": null,
   "id": "87b753eb",
   "metadata": {},
   "outputs": [
    {
     "name": "stdout",
     "output_type": "stream",
     "text": [
      "Jumlah data setelah SMOTE:\n",
      "X: (1320, 12)\n",
      "y: (1320,)\n"
     ]
    }
   ],
   "source": [
    "from imblearn.over_sampling import SMOTE\n",
    "\n",
    "smote = SMOTE(random_state=42)\n",
    "X_resampled, y_resampled = smote.fit_resample(X, y)\n",
    "print(\"Jumlah data setelah SMOTE:\")\n",
    "print(\"X:\", X_resampled.shape)\n",
    "print(\"y:\", y_resampled.shape)   "
   ]
  },
  {
   "cell_type": "markdown",
   "id": "39b2c402",
   "metadata": {},
   "source": [
    "Normalisasi"
   ]
  },
  {
   "cell_type": "code",
   "execution_count": 23,
   "id": "dca04105",
   "metadata": {},
   "outputs": [
    {
     "name": "stdout",
     "output_type": "stream",
     "text": [
      "\n",
      "hasil normalisasi data latih:\n",
      "[[-1.67586967e+00 -4.51528179e-01  4.83777324e-01 ... -2.82316290e-01\n",
      "   4.52306907e-04 -1.90160794e+00]\n",
      " [-7.23250014e-01 -7.84895660e-01 -1.34777880e+00 ...  1.47498533e+00\n",
      "  -1.37899380e+00  1.23952323e-01]\n",
      " [-1.35832979e+00 -1.48466832e-01  1.78731727e+00 ...  1.54345163e+00\n",
      "  -1.42402726e+00  1.23952323e-01]\n",
      " ...\n",
      " [ 6.48522294e-01  1.21024011e+00 -5.55754529e-01 ...  9.83122156e-02\n",
      "  -3.16308018e-01 -4.30310318e-02]\n",
      " [ 1.14388452e+00  2.88145800e-01  1.39130513e+00 ... -1.43520139e+00\n",
      "   2.47698591e-01  1.23952323e-01]\n",
      " [ 6.48522294e-01  1.14292329e+00 -9.27015905e-01 ... -4.46315328e-01\n",
      "  -6.50325249e-02  6.49943461e-01]]\n"
     ]
    }
   ],
   "source": [
    "from sklearn.preprocessing import StandardScaler\n",
    "\n",
    "# Scaling\n",
    "scaler = StandardScaler()\n",
    "X_scaled = scaler.fit_transform(X_resampled)\n",
    "\n",
    "print(\"\\nhasil normalisasi data latih:\")\n",
    "print(X_scaled)\n"
   ]
  },
  {
   "cell_type": "markdown",
   "id": "31b53596",
   "metadata": {},
   "source": [
    "Data Splitting"
   ]
  },
  {
   "cell_type": "code",
   "execution_count": 24,
   "id": "f854c1c3",
   "metadata": {},
   "outputs": [
    {
     "name": "stdout",
     "output_type": "stream",
     "text": [
      "Jumlah data latih: 1056\n",
      "Jumlah data uji  : 264\n"
     ]
    }
   ],
   "source": [
    "from sklearn.model_selection import train_test_split\n",
    "\n",
    "X_train, X_test, y_train, y_test = train_test_split(\n",
    "    X_scaled, y_resampled, test_size=0.2, random_state=42\n",
    ")\n",
    "\n",
    "print(\"Jumlah data latih:\", len(X_train))\n",
    "print(\"Jumlah data uji  :\", len(X_test))"
   ]
  },
  {
   "cell_type": "markdown",
   "id": "76fe58cc",
   "metadata": {},
   "source": [
    "Membangun Model"
   ]
  },
  {
   "cell_type": "code",
   "execution_count": 25,
   "id": "43d92a5d",
   "metadata": {},
   "outputs": [],
   "source": [
    "import numpy as np"
   ]
  },
  {
   "cell_type": "code",
   "execution_count": null,
   "id": "edc7230c",
   "metadata": {},
   "outputs": [],
   "source": [
    "class MLP:\n",
    "    def __init__(self, Input_Size, Hidden_Size, Output_Size, Learning_rate):\n",
    "        self.W = np.random.randn(Input_Size, Hidden_Size) # 12x8\n",
    "        self.V = np.random.randn(Hidden_Size, Output_Size) # 8x3\n",
    "        self.B1 = np.zeros((1, Hidden_Size)) # 1x8 \n",
    "        self.B2 = np.zeros((1, Output_Size)) # 1x3\n",
    "        self.Learning_rate = Learning_rate\n",
    "        \n",
    "    def Sigmoid(self, x):\n",
    "        return 1 / (1 + np.exp(-x))\n",
    "\n",
    "    def Turunan_Sigmoid(self, x):\n",
    "        return x * (1 - x)\n",
    "    \n",
    "    def Forward(self, X):\n",
    "        Z_in =  np.dot(X, self.W) + self.B1 # 1056x12 . 12x8 + 1x8\n",
    "        self.Z = self.Sigmoid(Z_in) # 1056x8\n",
    "        Y_in =  np.dot(self.Z, self.V) + self.B2 # 1056x8 . 8x3 + 1x3\n",
    "        self.Y = self.Sigmoid(Y_in) # 1056x3\n",
    "        \n",
    "        return self.Y, self.Z\n",
    "    \n",
    "    def Backward(self, y, y_pred):\n",
    "        self.y_true_one_hot = np.zeros_like(y_pred) # y_true_one_hot awalnya 1056x1\n",
    "        self.y_true_one_hot[range(y.shape[0]), y] = 1 # y_true_one_hot akhirnya 1056x3\n",
    "        \n",
    "        Error1 = self.y_true_one_hot - y_pred\n",
    "        self.Error_Output = self.Turunan_Sigmoid(y_pred) * Error1 # 1056x3\n",
    "        \n",
    "        Error2 =  np.dot(self.Error_Output, self.V.T) # 1056x3 . 3x8 = 1056x8\n",
    "        self.Error_Hidden = self.Turunan_Sigmoid(self.Z) * Error2 \n",
    "        \n",
    "        return self.Error_Output, self.Error_Hidden\n",
    "    \n",
    "    def Perubahan_Bobot(self, X):\n",
    "        Delta_V = np.dot(self.Error_Output.T, self.Z) * self.Learning_rate # 3x1056 . 1056x8 = 3x8\n",
    "        Delta_W = np.dot(self.Error_Hidden.T, X) * self.Learning_rate # 8x1056 . 1056x12 = 8x12\n",
    "        \n",
    "        self.V = self.V + Delta_V.T # 8x3 + 8x3\n",
    "        self.W = self.W + Delta_W.T # 12x8 + 12x8\n",
    "        \n",
    "        return self.W, self.V\n",
    "        \n",
    "    def train(self, X, y, epochs):\n",
    "        for epoch in range(epochs):\n",
    "            self.Forward(X)\n",
    "            self.Backward(y, self.Y)\n",
    "            self.Perubahan_Bobot(X)\n",
    "            if (epoch+1) % 10 == 0:\n",
    "                loss = np.mean((self.y_true_one_hot - self.Y) ** 2)\n",
    "                print(f'Epoch {epoch + 1}, Loss: {loss:.4f}')\n",
    "                \n",
    "    def predict(self, X):\n",
    "        output = self.Forward(X)\n",
    "        return np.argmax(output[0], axis=1)        "
   ]
  },
  {
   "cell_type": "code",
   "execution_count": 33,
   "id": "003fc7b7",
   "metadata": {},
   "outputs": [
    {
     "name": "stdout",
     "output_type": "stream",
     "text": [
      "Epoch 10, Loss: 0.2011\n",
      "Epoch 20, Loss: 0.1516\n",
      "Epoch 30, Loss: 0.1439\n",
      "Epoch 40, Loss: 0.1090\n",
      "Epoch 50, Loss: 0.0903\n",
      "Epoch 60, Loss: 0.0749\n",
      "Epoch 70, Loss: 0.0699\n",
      "Epoch 80, Loss: 0.0683\n",
      "Epoch 90, Loss: 0.0638\n",
      "Epoch 100, Loss: 0.0596\n"
     ]
    },
    {
     "data": {
      "text/plain": [
       "array([1, 1, 0, 0, 2, 0, 0, 2, 1, 0, 0, 1, 1, 1, 2, 0, 0, 1, 0, 1, 0, 1,\n",
       "       2, 2, 2, 2, 1, 2, 0, 0, 2, 0, 0, 1, 0, 0, 1, 2, 1, 0, 2, 2, 0, 0,\n",
       "       1, 2, 1, 2, 0, 1, 0, 2, 2, 1, 2, 1, 0, 0, 2, 0, 2, 0, 0, 2, 2, 2,\n",
       "       1, 2, 2, 1, 2, 0, 2, 2, 2, 2, 0, 0, 0, 0, 0, 0, 1, 0, 1, 2, 0, 1,\n",
       "       2, 0, 1, 1, 0, 2, 2, 1, 0, 2, 2, 1, 2, 2, 2, 0, 0, 0, 0, 2, 2, 1,\n",
       "       1, 0, 1, 2, 2, 0, 0, 0, 1, 0, 2, 2, 0, 0, 0, 0, 1, 0, 2, 2, 0, 0,\n",
       "       2, 2, 0, 0, 2, 2, 2, 2, 2, 0, 2, 1, 0, 1, 1, 1, 0, 1, 0, 1, 1, 1,\n",
       "       0, 0, 0, 2, 1, 0, 2, 2, 1, 2, 0, 1, 0, 2, 0, 2, 2, 0, 0, 1, 2, 2,\n",
       "       0, 2, 1, 1, 2, 0, 0, 0, 1, 2, 2, 2, 0, 0, 0, 0, 1, 0, 0, 0, 2, 2,\n",
       "       0, 0, 2, 1, 2, 2, 0, 1, 2, 0, 0, 0, 0, 2, 2, 2, 2, 2, 2, 0, 2, 0,\n",
       "       2, 1, 1, 0, 0, 2, 0, 2, 1, 0, 2, 2, 0, 2, 0, 0, 0, 2, 2, 2, 0, 0,\n",
       "       2, 2, 0, 2, 2, 1, 0, 2, 2, 2, 2, 1, 2, 0, 2, 1, 0, 2, 2, 2, 1, 0])"
      ]
     },
     "execution_count": 33,
     "metadata": {},
     "output_type": "execute_result"
    }
   ],
   "source": [
    "Input = 12\n",
    "Hidden = 8\n",
    "Output = 3\n",
    "Learning_Rate = 0.1\n",
    "epoch = 100\n",
    "Naruto = MLP(Input, Hidden, Output, Learning_Rate)\n",
    "Train = Naruto.train(X_train, y_train, epoch)\n",
    "Test = Naruto.predict(X_test)\n",
    "Test\n"
   ]
  },
  {
   "cell_type": "markdown",
   "id": "02f72488",
   "metadata": {},
   "source": [
    "EVALUASI MODEL"
   ]
  },
  {
   "cell_type": "code",
   "execution_count": 34,
   "id": "8fafef46",
   "metadata": {},
   "outputs": [
    {
     "name": "stdout",
     "output_type": "stream",
     "text": [
      "Akurasi : 0.8258\n",
      "Precision: 0.8440\n",
      "Recall   : 0.8331\n",
      "F1-Score : 0.8185\n"
     ]
    }
   ],
   "source": [
    "# Hitung akurasi\n",
    "\n",
    "from sklearn.metrics import precision_score, recall_score, f1_score\n",
    "\n",
    "# Hitung precision, recall, dan F1-score (macro untuk rata-rata antar kelas)\n",
    "accuracy = np.mean(Test == y_test)\n",
    "precision = precision_score(y_test, Test, average='macro')\n",
    "recall = recall_score(y_test, Test, average='macro')\n",
    "f1 = f1_score(y_test, Test, average='macro')\n",
    "\n",
    "print(f\"Akurasi : {accuracy:.4f}\")\n",
    "print(f\"Precision: {precision:.4f}\")\n",
    "print(f\"Recall   : {recall:.4f}\")\n",
    "print(f\"F1-Score : {f1:.4f}\")"
   ]
  },
  {
   "cell_type": "code",
   "execution_count": 35,
   "id": "ecd8152f",
   "metadata": {},
   "outputs": [
    {
     "data": {
      "image/png": "[encoded data removed]",
      "text/plain": [
       "<Figure size 640x480 with 2 Axes>"
      ]
     },
     "metadata": {},
     "output_type": "display_data"
    }
   ],
   "source": [
    "from sklearn.metrics import confusion_matrix, ConfusionMatrixDisplay\n",
    "import matplotlib.pyplot as plt\n",
    "\n",
    "cm = confusion_matrix(y_test, Test)\n",
    "    \n",
    "disp = ConfusionMatrixDisplay(confusion_matrix=cm)\n",
    "disp.plot(cmap='Blues')\n",
    "plt.title(\"Confusion Matrix\")\n",
    "plt.show()\n"
   ]
  },
  {
   "cell_type": "code",
   "execution_count": 40,
   "id": "a1c705ad",
   "metadata": {},
   "outputs": [],
   "source": [
    "from sklearn.metrics import precision_score, recall_score, accuracy_score, f1_score\n",
    "\n",
    "accuracy = accuracy_score(y_test, Test)\n",
    "Recall = recall_score(y_test, Test, average=\"macro\")"
   ]
  }
 ],
 "metadata": {
  "kernelspec": {
   "display_name": "Python 3",
   "language": "python",
   "name": "python3"
  },
  "language_info": {
   "codemirror_mode": {
    "name": "ipython",
    "version": 3
   },
   "file_extension": ".py",
   "mimetype": "text/x-python",
   "name": "python",
   "nbconvert_exporter": "python",
   "pygments_lexer": "ipython3",
   "version": "3.12.6"
  }
 },
 "nbformat": 4,
 "nbformat_minor": 5
}
